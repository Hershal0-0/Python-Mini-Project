{
 "cells": [
  {
   "cell_type": "code",
   "execution_count": 22,
   "metadata": {},
   "outputs": [],
   "source": [
    "with open('alarms.txt',mode='r+') as file:\n",
    "    contents=file.read().split('\\n')\n",
    "lis=[]\n",
    "for i in range(0,len(contents)-1):\n",
    "    lis.append(contents[i].split(','))"
   ]
  },
  {
   "cell_type": "code",
   "execution_count": 23,
   "metadata": {},
   "outputs": [
    {
     "name": "stdout",
     "output_type": "stream",
     "text": [
      "['08:09 PM', 'default.wav']\n"
     ]
    }
   ],
   "source": [
    "print(contents[0].split(','))"
   ]
  },
  {
   "cell_type": "code",
   "execution_count": 25,
   "metadata": {},
   "outputs": [
    {
     "name": "stdout",
     "output_type": "stream",
     "text": [
      "[['08:09 PM', 'default.wav'], ['07:36 PM', 'default.wav'], ['03:02 PM', 'default.wav'], ['11:23 AM', 'deafult.wav'], ['08:07 PM', 'default.wav']]\n"
     ]
    }
   ],
   "source": [
    "print(lis)"
   ]
  },
  {
   "cell_type": "code",
   "execution_count": 26,
   "metadata": {},
   "outputs": [],
   "source": [
    "    with open(\"alarms_new.txt\", mode=\"r+\") as file:\n",
    "        file.truncate()\n",
    "        for i in lis:\n",
    "            for j in i:\n",
    "                file.write(j+\",\")\n",
    "            file.write('\\n')    "
   ]
  },
  {
   "cell_type": "code",
   "execution_count": null,
   "metadata": {},
   "outputs": [],
   "source": []
  }
 ],
 "metadata": {
  "kernelspec": {
   "display_name": "Python 3",
   "language": "python",
   "name": "python3"
  },
  "language_info": {
   "codemirror_mode": {
    "name": "ipython",
    "version": 3
   },
   "file_extension": ".py",
   "mimetype": "text/x-python",
   "name": "python",
   "nbconvert_exporter": "python",
   "pygments_lexer": "ipython3",
   "version": "3.7.4"
  }
 },
 "nbformat": 4,
 "nbformat_minor": 2
}
